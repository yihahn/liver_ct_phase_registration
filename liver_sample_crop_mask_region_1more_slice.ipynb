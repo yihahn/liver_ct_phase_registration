{
 "cells": [
  {
   "cell_type": "markdown",
   "metadata": {},
   "source": [
    "# 각 phase간 z방향 slice를 맞추는 루틴 파이프라인"
   ]
  },
  {
   "cell_type": "code",
   "execution_count": 1,
   "metadata": {},
   "outputs": [
    {
     "name": "stderr",
     "output_type": "stream",
     "text": [
      "/home/hahnyi/anaconda3/envs/py37/lib/python3.7/site-packages/ipykernel_launcher.py:13: FutureWarning: Passing a negative integer is deprecated in version 1.0 and will not be supported in future version. Instead, use None to not limit the column width.\n",
      "  del sys.path[0]\n"
     ]
    }
   ],
   "source": [
    "import os, sys, re, shutil\n",
    "import glob, natsort\n",
    "from tqdm import tqdm\n",
    "import SimpleITK as sitk\n",
    "import matplotlib.pyplot as plt\n",
    "import pandas as pd\n",
    "import numpy as np\n",
    "import subprocess\n",
    "import gui\n",
    "\n",
    "%matplotlib inline\n",
    "%config Completer.use_jedi = False\n",
    "pd.set_option('display.max_colwidth', -1)"
   ]
  },
  {
   "cell_type": "markdown",
   "metadata": {},
   "source": [
    "# liver slice만 남기기"
   ]
  },
  {
   "cell_type": "code",
   "execution_count": 2,
   "metadata": {},
   "outputs": [
    {
     "data": {
      "text/plain": [
       "(4, 4, 3, 4, 4, 3)"
      ]
     },
     "execution_count": 2,
     "metadata": {},
     "output_type": "execute_result"
    }
   ],
   "source": [
    "ct_basepath = '../../data/'\n",
    "samples = ['002', '004', '009', '010']\n",
    "\n",
    "ct_arterys = []\n",
    "ct_portals = []\n",
    "ct_delays = []\n",
    "mask_arterys = []\n",
    "mask_portals = []\n",
    "mask_delays = []\n",
    "for sample in samples :\n",
    "    ct_arterys.extend(glob.glob(os.path.join(ct_basepath, \"ct_liver/artery/{}*_resize.hdr\".format(sample))))\n",
    "    ct_portals.extend(glob.glob(os.path.join(ct_basepath, \"ct_liver/portal/{}*_resize.hdr\".format(sample))))\n",
    "    ct_delays.extend(glob.glob(os.path.join(ct_basepath, \"ct_liver/delay/{}*_resize.hdr\".format(sample))))\n",
    "    \n",
    "    mask_arterys.extend(glob.glob(os.path.join(ct_basepath, \"mask_liver/artery/{}*_resize_Lg.hdr\".format(sample))))\n",
    "    mask_portals.extend(glob.glob(os.path.join(ct_basepath, \"mask_liver/portal/{}*_resize_Lg.hdr\".format(sample))))\n",
    "    mask_delays.extend(glob.glob(os.path.join(ct_basepath, \"mask_liver/delay/{}*_resize_Lg.hdr\".format(sample))))\n",
    "    \n",
    "len(ct_arterys), len(ct_portals), len(ct_delays), len(mask_arterys), len(mask_portals), len(mask_delays)"
   ]
  },
  {
   "cell_type": "markdown",
   "metadata": {},
   "source": [
    "##### SimpleITK.WriteImage로 저장하기 전에 Set 해줘야하는 변수들\n",
    "- SetSpacing\n",
    "- SetOrigin\n",
    "- SetDirection"
   ]
  },
  {
   "cell_type": "code",
   "execution_count": 3,
   "metadata": {},
   "outputs": [],
   "source": [
    "sample_zslices_df = pd.DataFrame(columns = ['phases', 'sample', 'n_zslices', 'isMask', 'path'])"
   ]
  },
  {
   "cell_type": "code",
   "execution_count": 4,
   "metadata": {
    "scrolled": true
   },
   "outputs": [
    {
     "name": "stderr",
     "output_type": "stream",
     "text": [
      "100%|██████████| 4/4 [00:01<00:00,  2.15it/s]\n"
     ]
    }
   ],
   "source": [
    "outpath_artery = \"samples/cropped_CT/onemore_slices/artery\"\n",
    "os.makedirs(outpath_artery, exist_ok=True)\n",
    "for i, mask_path in tqdm(enumerate(mask_arterys), total=len(mask_arterys)):\n",
    "    fname = os.path.basename(ct_arterys[i]).replace('resize', 'onlyliver')\n",
    "    sample_num = fname.split('_')[0]\n",
    "    img_artery = sitk.ReadImage(ct_arterys[i])\n",
    "    img_artery_arr = sitk.GetArrayFromImage(img_artery)\n",
    "    mask_artery = sitk.ReadImage(mask_path)\n",
    "    mask_artery_arr = sitk.GetArrayFromImage(mask_artery)\n",
    "    \n",
    "    ct_artery_slices = []\n",
    "    slices = []\n",
    "    for i in range(len(mask_artery_arr)):\n",
    "        if len(mask_artery_arr[i][np.where(mask_artery_arr[i] > 0)]) != 0:\n",
    "            ct_artery_slices.append(img_artery_arr[i])\n",
    "            slices.append(i)\n",
    "    \n",
    "    ct_artery = np.array(ct_artery_slices)\n",
    "    # 맨 위 슬라이스와 맨 아래 슬라이스에 한 슬라이스씩 끼워넣기 불연속을 막기 위해서 \n",
    "    ct_artery = np.insert(ct_artery, 0, \n",
    "                          img_artery_arr[slices[0]-1], axis=0)\n",
    "    ct_artery = np.insert(ct_artery, ct_artery.shape[0], \n",
    "                          img_artery_arr[slices[-1]+1], axis=0)\n",
    "    crop_liver_img = sitk.GetImageFromArray(ct_artery)\n",
    "    crop_liver_img.SetSpacing(img_artery.GetSpacing())\n",
    "    crop_liver_img.SetOrigin(img_artery.GetOrigin())\n",
    "    crop_liver_img.SetDirection(img_artery.GetDirection())\n",
    "    sitk.WriteImage(crop_liver_img, os.path.join(outpath_artery, '{}.hdr'.format(fname)))\n",
    "    sample_zslices_df.loc[len(sample_zslices_df)] = ['artery', sample_num, ct_artery.shape[0], False,\n",
    "                                                     os.path.join(outpath_artery, '{}'.format(fname))]\n",
    "    #sitk.WriteImage(crop_liver_img, f'./samples_new/cropped_CT/ARTERY/{fname}.hdr')"
   ]
  },
  {
   "cell_type": "code",
   "execution_count": 5,
   "metadata": {},
   "outputs": [
    {
     "name": "stderr",
     "output_type": "stream",
     "text": [
      "100%|██████████| 4/4 [00:01<00:00,  2.27it/s]\n"
     ]
    }
   ],
   "source": [
    "outpath_portal = \"samples/cropped_CT/onemore_slices/portal\"\n",
    "os.makedirs(outpath_portal, exist_ok=True)\n",
    "for i, mask_path in tqdm(enumerate(mask_portals), total=len(mask_portals)):\n",
    "    fname = os.path.basename(ct_portals[i]).replace('resize', 'onlyliver')\n",
    "    sample_num = fname.split('_')[0]\n",
    "    img_portal = sitk.ReadImage(ct_portals[i])\n",
    "    img_portal_arr = sitk.GetArrayFromImage(img_portal)\n",
    "    mask_portal = sitk.ReadImage(mask_path)\n",
    "    mask_portal_arr = sitk.GetArrayFromImage(mask_portal)\n",
    "    \n",
    "    ct_portal_slices = []\n",
    "    slices = []\n",
    "    for i in range(len(mask_portal_arr)):\n",
    "        if len(mask_portal_arr[i][np.where(mask_portal_arr[i] > 0)]) != 0:\n",
    "            ct_portal_slices.append(img_portal_arr[i])\n",
    "            slices.append(i)\n",
    "    \n",
    "    ct_portal = np.array(ct_portal_slices)\n",
    "    # 맨 위 슬라이스와 맨 아래 슬라이스에 한 슬라이스씩 끼워넣기 불연속을 막기 위해서 \n",
    "    ct_portal = np.insert(ct_portal, 0, \n",
    "                          img_portal_arr[slices[0]-1], axis=0)\n",
    "    ct_portal = np.insert(ct_portal, ct_portal.shape[0], \n",
    "                          img_portal_arr[slices[-1]+1], axis=0)\n",
    "    crop_liver_img = sitk.GetImageFromArray(ct_portal)\n",
    "    crop_liver_img.SetSpacing(img_portal.GetSpacing())\n",
    "    crop_liver_img.SetOrigin(img_portal.GetOrigin())\n",
    "    crop_liver_img.SetDirection(img_portal.GetDirection())\n",
    "    sitk.WriteImage(crop_liver_img, os.path.join(outpath_portal, '{}.hdr'.format(fname)))\n",
    "    sample_zslices_df.loc[len(sample_zslices_df)] = ['portal', sample_num, ct_portal.shape[0], False, \n",
    "                                                    os.path.join(outpath_portal, '{}'.format(fname))]\n",
    "    #sitk.WriteImage(crop_liver_img, f'./samples_new/cropped_CT/PORTAL/{fname}.hdr')"
   ]
  },
  {
   "cell_type": "code",
   "execution_count": 6,
   "metadata": {},
   "outputs": [
    {
     "name": "stderr",
     "output_type": "stream",
     "text": [
      "100%|██████████| 3/3 [00:02<00:00,  1.27it/s]\n"
     ]
    }
   ],
   "source": [
    "outpath_delay = \"samples/cropped_CT/onemore_slices/delay\"\n",
    "os.makedirs(outpath_delay, exist_ok=True)\n",
    "for i, mask_path in tqdm(enumerate(mask_delays), total=len(mask_delays)):\n",
    "    fname = os.path.basename(ct_delays[i]).replace('resize', 'onlyliver')\n",
    "    sample_num = fname.split('_')[0]\n",
    "    img_delay = sitk.ReadImage(ct_delays[i])\n",
    "    img_delay_arr = sitk.GetArrayFromImage(img_delay)\n",
    "    mask_delay = sitk.ReadImage(mask_path)\n",
    "    mask_delay_arr = sitk.GetArrayFromImage(mask_delay)\n",
    "    \n",
    "    ct_delay_slices = []\n",
    "    slices = []\n",
    "    for i in range(len(mask_delay_arr)):\n",
    "        if len(mask_delay_arr[i][np.where(mask_delay_arr[i] > 0)]) != 0:\n",
    "            ct_delay_slices.append(img_delay_arr[i])\n",
    "            slices.append(i)\n",
    "    \n",
    "    ct_delay = np.array(ct_delay_slices)\n",
    "    # 맨 위 슬라이스와 맨 아래 슬라이스에 한 슬라이스씩 끼워넣기 불연속을 막기 위해서 \n",
    "    ct_delay = np.insert(ct_delay, 0, \n",
    "                          img_delay_arr[slices[0]-1], axis=0)\n",
    "    ct_delay = np.insert(ct_delay, ct_delay.shape[0], \n",
    "                          img_delay_arr[slices[-1]+1], axis=0)\n",
    "    crop_liver_img = sitk.GetImageFromArray(ct_delay)\n",
    "    crop_liver_img.SetSpacing(img_delay.GetSpacing())\n",
    "    crop_liver_img.SetOrigin(img_delay.GetOrigin())\n",
    "    crop_liver_img.SetDirection(img_delay.GetDirection())\n",
    "    sitk.WriteImage(crop_liver_img, os.path.join(outpath_delay, '{}.hdr'.format(fname)))\n",
    "    sample_zslices_df.loc[len(sample_zslices_df)] = ['delay', sample_num, ct_delay.shape[0], False, \n",
    "                                                    os.path.join(outpath_delay, '{}'.format(fname))]\n",
    "#     sitk.WriteImage(crop_liver_img, f'./samples_new/cropped_CT/DELAY/{fname}.hdr')"
   ]
  },
  {
   "cell_type": "markdown",
   "metadata": {},
   "source": [
    "#### phase 간 (artery와 portal / delay와 portal) slice 개수를 crop한 마스크"
   ]
  },
  {
   "cell_type": "code",
   "execution_count": 7,
   "metadata": {},
   "outputs": [
    {
     "name": "stderr",
     "output_type": "stream",
     "text": [
      "100%|██████████| 4/4 [00:00<00:00,  6.12it/s]\n"
     ]
    }
   ],
   "source": [
    "outpath_mask_artery = \"samples/cropped_MASK/onemore_slices/artery\"\n",
    "os.makedirs(outpath_mask_artery, exist_ok=True)\n",
    "for i, mask_path in tqdm(enumerate(mask_arterys), total=len(mask_arterys)):\n",
    "    fname = os.path.basename(mask_path).replace('resize_Lg', 'onlyliver')\n",
    "    sample_num = fname.split('_')[0]\n",
    "    mask_img = sitk.ReadImage(mask_path)\n",
    "    mask_arr = sitk.GetArrayFromImage(mask_img)\n",
    "    \n",
    "    mask_arr_slices = []\n",
    "    slices = []\n",
    "    for i in range(len(mask_arr)):\n",
    "        if len(mask_arr[i][np.where(mask_arr[i] > 0)]) != 0:\n",
    "            mask_arr_slices.append(mask_arr[i])\n",
    "            slices.append(i)\n",
    "    \n",
    "    mask_artery = np.array(mask_arr_slices)\n",
    "     # 맨 위 슬라이스와 맨 아래 슬라이스에 한 슬라이스씩 끼워넣기 불연속을 막기 위해서 \n",
    "    mask_artery = np.insert(mask_artery, 0, \n",
    "                            mask_arr[slices[0]-1], axis=0)\n",
    "    mask_artery = np.insert(mask_artery, mask_artery.shape[0], \n",
    "                            mask_arr[slices[-1]+1], axis=0)\n",
    "    only_liver_mask = sitk.GetImageFromArray(mask_artery)\n",
    "    only_liver_mask.SetSpacing(mask_img.GetSpacing())\n",
    "    only_liver_mask.SetOrigin(mask_img.GetOrigin())\n",
    "    only_liver_mask.SetDirection(mask_img.GetDirection())\n",
    "    sitk.WriteImage(only_liver_mask, os.path.join(outpath_mask_artery, '{}.hdr'.format(fname)))\n",
    "    sample_zslices_df.loc[len(sample_zslices_df)] = ['artery', sample_num, mask_artery.shape[0], True, \n",
    "                                                    os.path.join(outpath_mask_artery, '{}'.format(fname))]"
   ]
  },
  {
   "cell_type": "code",
   "execution_count": 8,
   "metadata": {},
   "outputs": [
    {
     "name": "stderr",
     "output_type": "stream",
     "text": [
      "100%|██████████| 4/4 [00:00<00:00,  6.11it/s]\n"
     ]
    }
   ],
   "source": [
    "outpath_mask_portal = \"samples/cropped_MASK/onemore_slices/portal\"\n",
    "os.makedirs(outpath_mask_portal, exist_ok=True)\n",
    "for i, mask_path in tqdm(enumerate(mask_portals), total=len(mask_portals)):\n",
    "    fname = os.path.basename(mask_path).replace('resize_Lg', 'onlyliver')\n",
    "    sample_num = fname.split('_')[0]\n",
    "    mask_img = sitk.ReadImage(mask_path)\n",
    "    mask_arr = sitk.GetArrayFromImage(mask_img)\n",
    "    \n",
    "    mask_arr_slices = []\n",
    "    slices = []\n",
    "    for i in range(len(mask_arr)):\n",
    "        if len(mask_arr[i][np.where(mask_arr[i] > 0)]) != 0:\n",
    "            mask_arr_slices.append(mask_arr[i])\n",
    "            slices.append(i)\n",
    "    \n",
    "    mask_portal = np.array(mask_arr_slices)\n",
    "     # 맨 위 슬라이스와 맨 아래 슬라이스에 한 슬라이스씩 끼워넣기 불연속을 막기 위해서 \n",
    "    mask_portal = np.insert(mask_portal, 0, \n",
    "                            mask_arr[slices[0]-1], axis=0)\n",
    "    mask_portal = np.insert(mask_portal, mask_portal.shape[0], \n",
    "                            mask_arr[slices[-1]+1], axis=0)\n",
    "    only_liver_mask = sitk.GetImageFromArray(mask_portal)\n",
    "    only_liver_mask.SetSpacing(mask_img.GetSpacing())\n",
    "    only_liver_mask.SetOrigin(mask_img.GetOrigin())\n",
    "    only_liver_mask.SetDirection(mask_img.GetDirection())\n",
    "    sitk.WriteImage(only_liver_mask, os.path.join(outpath_mask_portal, '{}.hdr'.format(fname)))\n",
    "    sample_zslices_df.loc[len(sample_zslices_df)] = ['portal', sample_num, mask_portal.shape[0], True, \n",
    "                                                    os.path.join(outpath_mask_portal, '{}'.format(fname))]"
   ]
  },
  {
   "cell_type": "code",
   "execution_count": 9,
   "metadata": {},
   "outputs": [
    {
     "name": "stderr",
     "output_type": "stream",
     "text": [
      "100%|██████████| 3/3 [00:00<00:00,  6.79it/s]\n"
     ]
    }
   ],
   "source": [
    "outpath_mask_delay = \"samples/cropped_MASK/onemore_slices/delay\"\n",
    "os.makedirs(outpath_mask_delay, exist_ok=True)\n",
    "for i, mask_path in tqdm(enumerate(mask_delays), total=len(mask_delays)):\n",
    "    fname = os.path.basename(mask_path).replace('resize_Lg', 'onlyliver')\n",
    "    sample_num = fname.split('_')[0]\n",
    "    mask_img = sitk.ReadImage(mask_path)\n",
    "    mask_arr = sitk.GetArrayFromImage(mask_img)\n",
    "    \n",
    "    mask_arr_slices = []\n",
    "    slices = []\n",
    "    for i in range(len(mask_arr)):\n",
    "        if len(mask_arr[i][np.where(mask_arr[i] > 0)]) != 0:\n",
    "            mask_arr_slices.append(mask_arr[i])\n",
    "            slices.append(i)\n",
    "    \n",
    "    mask_delay = np.array(mask_arr_slices)\n",
    "     # 맨 위 슬라이스와 맨 아래 슬라이스에 한 슬라이스씩 끼워넣기 불연속을 막기 위해서 \n",
    "    mask_delay = np.insert(mask_delay, 0, \n",
    "                            mask_arr[slices[0]-1], axis=0)\n",
    "    mask_delay = np.insert(mask_delay, mask_delay.shape[0], \n",
    "                            mask_arr[slices[-1]+1], axis=0)\n",
    "    only_liver_mask = sitk.GetImageFromArray(mask_delay)\n",
    "    only_liver_mask.SetSpacing(mask_img.GetSpacing())\n",
    "    only_liver_mask.SetOrigin(mask_img.GetOrigin())\n",
    "    only_liver_mask.SetDirection(mask_img.GetDirection())\n",
    "    sitk.WriteImage(only_liver_mask, os.path.join(outpath_mask_delay, '{}.hdr'.format(fname)))\n",
    "    sample_zslices_df.loc[len(sample_zslices_df)] = ['delay', sample_num, mask_delay.shape[0], True, \n",
    "                                                    os.path.join(outpath_mask_delay, '{}'.format(fname))]"
   ]
  },
  {
   "cell_type": "code",
   "execution_count": 10,
   "metadata": {
    "scrolled": false
   },
   "outputs": [
    {
     "data": {
      "text/html": [
       "<div>\n",
       "<style scoped>\n",
       "    .dataframe tbody tr th:only-of-type {\n",
       "        vertical-align: middle;\n",
       "    }\n",
       "\n",
       "    .dataframe tbody tr th {\n",
       "        vertical-align: top;\n",
       "    }\n",
       "\n",
       "    .dataframe thead th {\n",
       "        text-align: right;\n",
       "    }\n",
       "</style>\n",
       "<table border=\"1\" class=\"dataframe\">\n",
       "  <thead>\n",
       "    <tr style=\"text-align: right;\">\n",
       "      <th></th>\n",
       "      <th>phases</th>\n",
       "      <th>sample</th>\n",
       "      <th>n_zslices</th>\n",
       "      <th>isMask</th>\n",
       "      <th>path</th>\n",
       "    </tr>\n",
       "  </thead>\n",
       "  <tbody>\n",
       "    <tr>\n",
       "      <th>0</th>\n",
       "      <td>artery</td>\n",
       "      <td>002</td>\n",
       "      <td>19</td>\n",
       "      <td>False</td>\n",
       "      <td>samples/cropped_CT/onemore_slices/artery/002_11007854_onlyliver.hdr</td>\n",
       "    </tr>\n",
       "    <tr>\n",
       "      <th>1</th>\n",
       "      <td>artery</td>\n",
       "      <td>004</td>\n",
       "      <td>32</td>\n",
       "      <td>False</td>\n",
       "      <td>samples/cropped_CT/onemore_slices/artery/004_11453440_onlyliver.hdr</td>\n",
       "    </tr>\n",
       "    <tr>\n",
       "      <th>2</th>\n",
       "      <td>artery</td>\n",
       "      <td>009</td>\n",
       "      <td>29</td>\n",
       "      <td>False</td>\n",
       "      <td>samples/cropped_CT/onemore_slices/artery/009_12136166_onlyliver.hdr</td>\n",
       "    </tr>\n",
       "    <tr>\n",
       "      <th>3</th>\n",
       "      <td>artery</td>\n",
       "      <td>010</td>\n",
       "      <td>32</td>\n",
       "      <td>False</td>\n",
       "      <td>samples/cropped_CT/onemore_slices/artery/010_12281624_onlyliver.hdr</td>\n",
       "    </tr>\n",
       "    <tr>\n",
       "      <th>4</th>\n",
       "      <td>portal</td>\n",
       "      <td>002</td>\n",
       "      <td>19</td>\n",
       "      <td>False</td>\n",
       "      <td>samples/cropped_CT/onemore_slices/portal/002_11007854_onlyliver.hdr</td>\n",
       "    </tr>\n",
       "    <tr>\n",
       "      <th>5</th>\n",
       "      <td>portal</td>\n",
       "      <td>004</td>\n",
       "      <td>33</td>\n",
       "      <td>False</td>\n",
       "      <td>samples/cropped_CT/onemore_slices/portal/004_11453440_onlyliver.hdr</td>\n",
       "    </tr>\n",
       "    <tr>\n",
       "      <th>6</th>\n",
       "      <td>portal</td>\n",
       "      <td>009</td>\n",
       "      <td>29</td>\n",
       "      <td>False</td>\n",
       "      <td>samples/cropped_CT/onemore_slices/portal/009_12136166_onlyliver.hdr</td>\n",
       "    </tr>\n",
       "    <tr>\n",
       "      <th>7</th>\n",
       "      <td>portal</td>\n",
       "      <td>010</td>\n",
       "      <td>32</td>\n",
       "      <td>False</td>\n",
       "      <td>samples/cropped_CT/onemore_slices/portal/010_12281624_onlyliver.hdr</td>\n",
       "    </tr>\n",
       "    <tr>\n",
       "      <th>8</th>\n",
       "      <td>delay</td>\n",
       "      <td>004</td>\n",
       "      <td>29</td>\n",
       "      <td>False</td>\n",
       "      <td>samples/cropped_CT/onemore_slices/delay/004_11453440_onlyliver.hdr</td>\n",
       "    </tr>\n",
       "    <tr>\n",
       "      <th>9</th>\n",
       "      <td>delay</td>\n",
       "      <td>009</td>\n",
       "      <td>30</td>\n",
       "      <td>False</td>\n",
       "      <td>samples/cropped_CT/onemore_slices/delay/009_12136166_onlyliver.hdr</td>\n",
       "    </tr>\n",
       "    <tr>\n",
       "      <th>10</th>\n",
       "      <td>delay</td>\n",
       "      <td>010</td>\n",
       "      <td>30</td>\n",
       "      <td>False</td>\n",
       "      <td>samples/cropped_CT/onemore_slices/delay/010_12281624_onlyliver.hdr</td>\n",
       "    </tr>\n",
       "    <tr>\n",
       "      <th>11</th>\n",
       "      <td>artery</td>\n",
       "      <td>002</td>\n",
       "      <td>19</td>\n",
       "      <td>True</td>\n",
       "      <td>samples/cropped_MASK/onemore_slices/artery/002_11007854_onlyliver.hdr</td>\n",
       "    </tr>\n",
       "    <tr>\n",
       "      <th>12</th>\n",
       "      <td>artery</td>\n",
       "      <td>004</td>\n",
       "      <td>32</td>\n",
       "      <td>True</td>\n",
       "      <td>samples/cropped_MASK/onemore_slices/artery/004_11453440_onlyliver.hdr</td>\n",
       "    </tr>\n",
       "    <tr>\n",
       "      <th>13</th>\n",
       "      <td>artery</td>\n",
       "      <td>009</td>\n",
       "      <td>29</td>\n",
       "      <td>True</td>\n",
       "      <td>samples/cropped_MASK/onemore_slices/artery/009_12136166_onlyliver.hdr</td>\n",
       "    </tr>\n",
       "    <tr>\n",
       "      <th>14</th>\n",
       "      <td>artery</td>\n",
       "      <td>010</td>\n",
       "      <td>32</td>\n",
       "      <td>True</td>\n",
       "      <td>samples/cropped_MASK/onemore_slices/artery/010_12281624_onlyliver.hdr</td>\n",
       "    </tr>\n",
       "    <tr>\n",
       "      <th>15</th>\n",
       "      <td>portal</td>\n",
       "      <td>002</td>\n",
       "      <td>19</td>\n",
       "      <td>True</td>\n",
       "      <td>samples/cropped_MASK/onemore_slices/portal/002_11007854_onlyliver.hdr</td>\n",
       "    </tr>\n",
       "    <tr>\n",
       "      <th>16</th>\n",
       "      <td>portal</td>\n",
       "      <td>004</td>\n",
       "      <td>33</td>\n",
       "      <td>True</td>\n",
       "      <td>samples/cropped_MASK/onemore_slices/portal/004_11453440_onlyliver.hdr</td>\n",
       "    </tr>\n",
       "    <tr>\n",
       "      <th>17</th>\n",
       "      <td>portal</td>\n",
       "      <td>009</td>\n",
       "      <td>29</td>\n",
       "      <td>True</td>\n",
       "      <td>samples/cropped_MASK/onemore_slices/portal/009_12136166_onlyliver.hdr</td>\n",
       "    </tr>\n",
       "    <tr>\n",
       "      <th>18</th>\n",
       "      <td>portal</td>\n",
       "      <td>010</td>\n",
       "      <td>32</td>\n",
       "      <td>True</td>\n",
       "      <td>samples/cropped_MASK/onemore_slices/portal/010_12281624_onlyliver.hdr</td>\n",
       "    </tr>\n",
       "    <tr>\n",
       "      <th>19</th>\n",
       "      <td>delay</td>\n",
       "      <td>004</td>\n",
       "      <td>29</td>\n",
       "      <td>True</td>\n",
       "      <td>samples/cropped_MASK/onemore_slices/delay/004_11453440_onlyliver.hdr</td>\n",
       "    </tr>\n",
       "    <tr>\n",
       "      <th>20</th>\n",
       "      <td>delay</td>\n",
       "      <td>009</td>\n",
       "      <td>30</td>\n",
       "      <td>True</td>\n",
       "      <td>samples/cropped_MASK/onemore_slices/delay/009_12136166_onlyliver.hdr</td>\n",
       "    </tr>\n",
       "    <tr>\n",
       "      <th>21</th>\n",
       "      <td>delay</td>\n",
       "      <td>010</td>\n",
       "      <td>30</td>\n",
       "      <td>True</td>\n",
       "      <td>samples/cropped_MASK/onemore_slices/delay/010_12281624_onlyliver.hdr</td>\n",
       "    </tr>\n",
       "  </tbody>\n",
       "</table>\n",
       "</div>"
      ],
      "text/plain": [
       "    phases sample n_zslices isMask  \\\n",
       "0   artery  002    19        False   \n",
       "1   artery  004    32        False   \n",
       "2   artery  009    29        False   \n",
       "3   artery  010    32        False   \n",
       "4   portal  002    19        False   \n",
       "5   portal  004    33        False   \n",
       "6   portal  009    29        False   \n",
       "7   portal  010    32        False   \n",
       "8   delay   004    29        False   \n",
       "9   delay   009    30        False   \n",
       "10  delay   010    30        False   \n",
       "11  artery  002    19        True    \n",
       "12  artery  004    32        True    \n",
       "13  artery  009    29        True    \n",
       "14  artery  010    32        True    \n",
       "15  portal  002    19        True    \n",
       "16  portal  004    33        True    \n",
       "17  portal  009    29        True    \n",
       "18  portal  010    32        True    \n",
       "19  delay   004    29        True    \n",
       "20  delay   009    30        True    \n",
       "21  delay   010    30        True    \n",
       "\n",
       "                                                                     path  \n",
       "0   samples/cropped_CT/onemore_slices/artery/002_11007854_onlyliver.hdr    \n",
       "1   samples/cropped_CT/onemore_slices/artery/004_11453440_onlyliver.hdr    \n",
       "2   samples/cropped_CT/onemore_slices/artery/009_12136166_onlyliver.hdr    \n",
       "3   samples/cropped_CT/onemore_slices/artery/010_12281624_onlyliver.hdr    \n",
       "4   samples/cropped_CT/onemore_slices/portal/002_11007854_onlyliver.hdr    \n",
       "5   samples/cropped_CT/onemore_slices/portal/004_11453440_onlyliver.hdr    \n",
       "6   samples/cropped_CT/onemore_slices/portal/009_12136166_onlyliver.hdr    \n",
       "7   samples/cropped_CT/onemore_slices/portal/010_12281624_onlyliver.hdr    \n",
       "8   samples/cropped_CT/onemore_slices/delay/004_11453440_onlyliver.hdr     \n",
       "9   samples/cropped_CT/onemore_slices/delay/009_12136166_onlyliver.hdr     \n",
       "10  samples/cropped_CT/onemore_slices/delay/010_12281624_onlyliver.hdr     \n",
       "11  samples/cropped_MASK/onemore_slices/artery/002_11007854_onlyliver.hdr  \n",
       "12  samples/cropped_MASK/onemore_slices/artery/004_11453440_onlyliver.hdr  \n",
       "13  samples/cropped_MASK/onemore_slices/artery/009_12136166_onlyliver.hdr  \n",
       "14  samples/cropped_MASK/onemore_slices/artery/010_12281624_onlyliver.hdr  \n",
       "15  samples/cropped_MASK/onemore_slices/portal/002_11007854_onlyliver.hdr  \n",
       "16  samples/cropped_MASK/onemore_slices/portal/004_11453440_onlyliver.hdr  \n",
       "17  samples/cropped_MASK/onemore_slices/portal/009_12136166_onlyliver.hdr  \n",
       "18  samples/cropped_MASK/onemore_slices/portal/010_12281624_onlyliver.hdr  \n",
       "19  samples/cropped_MASK/onemore_slices/delay/004_11453440_onlyliver.hdr   \n",
       "20  samples/cropped_MASK/onemore_slices/delay/009_12136166_onlyliver.hdr   \n",
       "21  samples/cropped_MASK/onemore_slices/delay/010_12281624_onlyliver.hdr   "
      ]
     },
     "execution_count": 10,
     "metadata": {},
     "output_type": "execute_result"
    }
   ],
   "source": [
    "sample_zslices_df"
   ]
  },
  {
   "cell_type": "code",
   "execution_count": 11,
   "metadata": {},
   "outputs": [],
   "source": [
    "def mask_image_multiply(mask, image):\n",
    "    components_per_pixel = image.GetNumberOfComponentsPerPixel()\n",
    "    if  components_per_pixel == 1:\n",
    "        return mask*image\n",
    "    else:\n",
    "        return sitk.Compose([mask*sitk.VectorIndexSelectionCast(image,channel) \\\n",
    "                             for channel in range(components_per_pixel)])"
   ]
  },
  {
   "cell_type": "markdown",
   "metadata": {},
   "source": [
    "#### The intensity histogram of masked area in Liver CT according to sample and phase"
   ]
  },
  {
   "cell_type": "code",
   "execution_count": 12,
   "metadata": {
    "scrolled": false
   },
   "outputs": [
    {
     "data": {
      "image/png": "[encoded data removed]",
      "text/plain": [
       "<Figure size 1080x864 with 12 Axes>"
      ]
     },
     "metadata": {
      "needs_background": "light"
     },
     "output_type": "display_data"
    }
   ],
   "source": [
    "phases = ['artery', 'portal', 'delay']\n",
    "fig, ax = plt.subplots(4, 3, figsize=(15, 12))\n",
    "for i, sample in enumerate(samples) :\n",
    "    for j, phase in enumerate(phases) :\n",
    "        sample_data = sample_zslices_df[(sample_zslices_df['phases']==phase) &\n",
    "                                        (sample_zslices_df['sample']==sample)]\n",
    "        sample_data = sample_data.reset_index()\n",
    "        if sample_data.shape[0] == 2:\n",
    "            sample_image = sample_data[sample_data['isMask']==False].loc[0, 'path']\n",
    "            sample_mask = sample_data[sample_data['isMask']==True].loc[1, 'path']\n",
    "            image = sitk.Cast(sitk.ReadImage(sample_image), sitk.sitkFloat64)\n",
    "            mask = sitk.Cast(sitk.ReadImage(sample_mask), sitk.sitkFloat64)\n",
    "            masked_image = mask_image_multiply(mask, image)\n",
    "            #sitk.MultiplyImageFilter(image, mask)\n",
    "#             print(sample_data)\n",
    "#             print(sample_mask, sample_image)\n",
    "#             print(mask.GetSize(), image.GetSize())\n",
    "#             masked_image = mask * image\n",
    "            masked_image_arr = sitk.GetArrayFromImage(masked_image)\n",
    "            ax[i, j].hist(masked_image_arr.flatten(), bins=30)\n",
    "            #ax[i, j].hist(sitk.GetArrayFromImage(mask).flatten())\n",
    "            ax[i, j].set_yscale('log')\n",
    "            ax[i, j].set_xlabel('Pixel values')\n",
    "            ax[i, j].set_ylabel('Count')\n",
    "            ax[i, j].set_title(str(sample) + \" \" +str(phase))\n",
    "plt.tight_layout()"
   ]
  },
  {
   "cell_type": "code",
   "execution_count": 16,
   "metadata": {},
   "outputs": [
    {
     "name": "stdout",
     "output_type": "stream",
     "text": [
      "002 artery onemore_slices/002/artery2portal_ab\n",
      "004 artery onemore_slices/004/artery2portal_ab\n",
      "004 delay onemore_slices/004/delay2portal_ab\n",
      "registration failure!\n",
      "009 artery onemore_slices/009/artery2portal_ab\n",
      "009 delay onemore_slices/009/delay2portal_ab\n",
      "010 artery onemore_slices/010/artery2portal_ab\n",
      "010 delay onemore_slices/010/delay2portal_ab\n"
     ]
    }
   ],
   "source": [
    "out_basepath = 'onemore_slices'\n",
    "samples = ['002', '004', '009', '010']\n",
    "#samples = ['002']\n",
    "mv_phases = ['artery', 'delay']\n",
    "for i, sample in enumerate(samples) :\n",
    "    fix_data = sample_zslices_df[(sample_zslices_df['sample']==sample)&\n",
    "                                (sample_zslices_df['phases']=='portal')]\n",
    "    fix_data = fix_data.reset_index()\n",
    "    if fix_data.shape[0] == 2 :\n",
    "        fix_imagefile = fix_data[fix_data['isMask']==False].loc[0, 'path']\n",
    "        fix_maskfile = fix_data[fix_data['isMask']==True].loc[1, 'path']\n",
    "    for j, mv_phase in enumerate(mv_phases) :\n",
    "        move_data = sample_zslices_df[(sample_zslices_df['sample']==sample) & \n",
    "                                     (sample_zslices_df['phases']==mv_phase)]\n",
    "        move_data = move_data.reset_index()\n",
    "        if move_data.shape[0] == 2 :\n",
    "            move_imagefile = move_data[move_data['isMask']==False].loc[0, 'path']\n",
    "            move_maskfile = move_data[move_data['isMask']==True].loc[1, 'path']\n",
    "            #print(move_imagefile, move_maskfile, fix_imagefile, fix_maskfile)\n",
    "            out_dirname = os.path.join(out_basepath, sample+'/'+mv_phase+'2portal_ab')\n",
    "            print(sample, mv_phase, out_dirname)\n",
    "            #print(out_dirname)\n",
    "            #sys.exit(-1)\n",
    "            os.makedirs(out_dirname, exist_ok=True)\n",
    "            out = subprocess.Popen(['elastix', \n",
    "                                    '-f', fix_imagefile, \n",
    "                                    '-m', move_imagefile, \n",
    "                                    '-p', 'affine_params.txt', '-p', 'bspline_params.txt', \n",
    "                                    '-out', out_dirname, \n",
    "                                    '-fMask', fix_maskfile,\n",
    "                                    '-mMask', move_maskfile,\n",
    "                                    '-threads', '96'], stdout=subprocess.PIPE).communicate()[0]\n",
    "            if os.path.isdir(out_dirname) :\n",
    "                if not os.path.isfile(os.path.join(out_dirname, 'result.1.mha')) :\n",
    "                    if os.path.isfile(os.path.join(out_dirname, 'result.0.mha')) :\n",
    "                        os.rename(out_dirname, os.path.join(out_basepath, sample+'/'+mv_phase+'2portal_a'))\n",
    "                    else :\n",
    "                        print(\"registration failure!\")\n",
    "                        #shutil.rmtree(out_dirname)"
   ]
  },
  {
   "cell_type": "code",
   "execution_count": null,
   "metadata": {},
   "outputs": [],
   "source": [
    "# gui.MultiImageDisplay(image_list=[fix_image, mv_image])"
   ]
  },
  {
   "cell_type": "code",
   "execution_count": null,
   "metadata": {},
   "outputs": [],
   "source": [
    "# def command_iteration(filter) :\n",
    "#     print(\"{0:3} = {1:10.5f}\".format(filter.GetElapsedIterations(),\n",
    "#                                      filter.GetMetric()))"
   ]
  },
  {
   "cell_type": "code",
   "execution_count": null,
   "metadata": {},
   "outputs": [],
   "source": [
    "# fix_imagefile\n",
    "# move_imagefile = 'sample_outs/010_12281624_onlyliver_artery2portal_ab.mha'\n",
    "# fix_image = sitk.Cast(sitk.ReadImage(fix_imagefile), sitk.sitkInt16)\n",
    "# mv_image = sitk.Cast(sitk.ReadImage(move_imagefile), sitk.sitkInt16)\n",
    "# print(fix_image.GetSize(), mv_image.GetSize())\n",
    "# print(fix_image.GetOrigin(), mv_image.GetOrigin())\n",
    "# print(fix_image.GetSpacing(), mv_image.GetSpacing())\n",
    "\n",
    "\n",
    "# demons = sitk.DiffeomorphicDemonsRegistrationFilter()\n",
    "# demons.SetNumberOfIterations(30)\n",
    "# # Standard deviation for Gaussian smoothing of displacement field\n",
    "# demons.SetStandardDeviations(1.0)\n",
    "# demons.AddCommand(sitk.sitkIterationEvent,lambda: command_iteration(demons) )\n",
    "# diffeomorphic_displacementField = demons.Execute(fix_image[:,:,0:30], mv_image)\n",
    "\n",
    "# sitk.WriteImage(diffeomorphic_displacementField, \"diffeomorphic_displacementField.mha\")\n",
    "# print(\"-------\")\n",
    "# print(\"Number Of Iterations: {0}\".format(demons.GetElapsedIterations()))\n",
    "# print(\" RMS: {0}\".format(demons.GetRMSChange()))\n",
    "# #print(\" RMS: {0}\".format(demons.))\n",
    "# #print(\"Metric: {}\".format(demons.GetMetric()))\n",
    "# diffeomorphicTx = sitk.DisplacementFieldTransform(diffeomorphic_displacementField)\n",
    "# sitk.WriteTransform(diffeomorphicTx, 'demon1.txt')\n",
    "# resampler = sitk.ResampleImageFilter()\n",
    "# resampler.SetReferenceImage(fix_image)\n",
    "# resampler.SetInterpolator(sitk.sitkLinear)\n",
    "# resampler.SetDefaultPixelValue(0)\n",
    "# resampler.SetTransform(diffeomorphicTx)\n",
    "# out = resampler.Execute(mv_image)\n",
    "# sitk.WriteImage(out,'010.mha')"
   ]
  },
  {
   "cell_type": "code",
   "execution_count": null,
   "metadata": {
    "scrolled": true
   },
   "outputs": [],
   "source": [
    "# fix_imagefile\n",
    "# move_imagefile = 'sample_outs/010_12281624_onlyliver_artery2portal_ab.mha'\n",
    "# fix_image = sitk.Cast(sitk.ReadImage(fix_imagefile), sitk.sitkInt16)\n",
    "# mv_image = sitk.Cast(sitk.ReadImage(move_imagefile), sitk.sitkInt16)\n",
    "# print(fix_image.GetSize(), mv_image.GetSize())\n",
    "# print(fix_image.GetOrigin(), mv_image.GetOrigin())\n",
    "# print(fix_image.GetSpacing(), mv_image.GetSpacing())\n",
    "# levelset = sitk.LevelSetMotionRegistrationFilter()\n",
    "# levelset.SetAlpha(0.1)\n",
    "# levelset.SetNumberOfIterations(10)\n",
    "# levelset.AddCommand(sitk.sitkIterationEvent,lambda: command_iteration(levelset) )\n",
    "# levelset_displacementfield = levelset.Execute(fix_image[:,:, 0:30], mv_image)\n",
    "# levelsetTx = sitk.DisplacementFieldTransform(levelset_displacementfield)\n",
    "# resampler = sitk.ResampleImageFilter()\n",
    "# resampler.SetReferenceImage(fix_image)\n",
    "# resampler.SetInterpolator(sitk.sitkLinear)\n",
    "# resampler.SetDefaultPixelValue(0)\n",
    "# resampler.SetTransform(levelsetTx)\n",
    "# out = resampler.Execute(mv_image)\n",
    "# gui.MultiImageDisplay(image_list=[out])"
   ]
  }
 ],
 "metadata": {
  "kernelspec": {
   "display_name": "Python 3",
   "language": "python",
   "name": "python3"
  },
  "language_info": {
   "codemirror_mode": {
    "name": "ipython",
    "version": 3
   },
   "file_extension": ".py",
   "mimetype": "text/x-python",
   "name": "python",
   "nbconvert_exporter": "python",
   "pygments_lexer": "ipython3",
   "version": "3.7.7"
  }
 },
 "nbformat": 4,
 "nbformat_minor": 5
}
