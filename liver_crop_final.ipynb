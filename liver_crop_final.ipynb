{
 "cells": [
  {
   "cell_type": "markdown",
   "metadata": {},
   "source": [
    "# 각 phase간 z방향 slice를 맞추는 루틴 파이프라인"
   ]
  },
  {
   "cell_type": "code",
   "execution_count": 1,
   "metadata": {},
   "outputs": [],
   "source": [
    "import os\n",
    "import glob\n",
    "import natsort\n",
    "from tqdm import tqdm\n",
    "import SimpleITK as sitk\n",
    "import matplotlib.pyplot as plt\n",
    "import pandas as pd\n",
    "import numpy as np\n",
    "\n",
    "%config Completer.use_jedi = False"
   ]
  },
  {
   "cell_type": "markdown",
   "metadata": {},
   "source": [
    "# 정합이 잘 되지 않은 영상의 인덱스와 환자 ID 확인하기"
   ]
  },
  {
   "cell_type": "markdown",
   "metadata": {},
   "source": [
    "### artery와 delay 각각 hdr_name 확인"
   ]
  },
  {
   "cell_type": "code",
   "execution_count": null,
   "metadata": {},
   "outputs": [],
   "source": [
    "# # Dataframe of artery case\n",
    "# df_a = pd.read_csv('./failure_reg_artery_list.csv', usecols=[0])\n",
    "\n",
    "# # Dataframe of delay case\n",
    "# df_d = pd.read_csv('./failure_reg_delay_list.csv', usecols=[0])\n",
    "\n",
    "# print(df_a)\n",
    "# print('')\n",
    "# print(df_d)"
   ]
  },
  {
   "cell_type": "code",
   "execution_count": null,
   "metadata": {},
   "outputs": [],
   "source": [
    "# # 2중 리스트를 flatten하게 만들기\n",
    "\n",
    "# a_tolist = df_a.values.tolist()\n",
    "# a_flat = [y for x in a_tolist for y in x]\n",
    "\n",
    "# d_tolist = df_d.values.tolist()\n",
    "# d_flat = [y for x in d_tolist for y in x]\n",
    "\n",
    "# len(a_flat), len(d_flat)"
   ]
  },
  {
   "cell_type": "code",
   "execution_count": null,
   "metadata": {},
   "outputs": [],
   "source": [
    "# ad_flat = a_flat + d_flat\n",
    "# len(ad_flat)"
   ]
  },
  {
   "cell_type": "code",
   "execution_count": null,
   "metadata": {},
   "outputs": [],
   "source": [
    "# # artery와 delay 영상의 모든 hdr_name 중복 없이 종합 -> portal 영상의 hdr_name\n",
    "\n",
    "# portal_lst = []\n",
    "# for name in ad_flat:\n",
    "#     if name not in portal_lst:\n",
    "#         portal_lst.append(name)\n",
    "\n",
    "# len(portal_lst)"
   ]
  },
  {
   "cell_type": "code",
   "execution_count": null,
   "metadata": {},
   "outputs": [],
   "source": [
    "# artery_lst = a_flat\n",
    "# delay_lst = d_flat\n",
    "\n",
    "# len(artery_lst), len(portal_lst), len(delay_lst)"
   ]
  },
  {
   "cell_type": "markdown",
   "metadata": {},
   "source": [
    "# liver slice만 남기기"
   ]
  },
  {
   "cell_type": "code",
   "execution_count": 2,
   "metadata": {},
   "outputs": [
    {
     "data": {
      "text/plain": [
       "(809, 808, 749, 809, 808, 749)"
      ]
     },
     "execution_count": 2,
     "metadata": {},
     "output_type": "execute_result"
    }
   ],
   "source": [
    "ct_basepath = './'\n",
    "\n",
    "# phase별로 ct 경로\n",
    "ct_arterys = natsort.natsorted(glob.glob(os.path.join(ct_basepath, 'ct_artery/*_resize.hdr')))\n",
    "ct_portals = natsort.natsorted(glob.glob(os.path.join(ct_basepath, 'ct_portal/*_resize.hdr')))\n",
    "ct_delays = natsort.natsorted(glob.glob(os.path.join(ct_basepath, 'ct_delay/*_resize.hdr')))\n",
    "\n",
    "# phase별로 mask 경로\n",
    "mask_arterys = natsort.natsorted(glob.glob(os.path.join(ct_basepath, 'mask_artery/*_resize*.hdr')))\n",
    "mask_portals = natsort.natsorted(glob.glob(os.path.join(ct_basepath, 'mask_portal/*_resize*.hdr')))\n",
    "mask_delays = natsort.natsorted(glob.glob(os.path.join(ct_basepath, 'mask_delay/*_resize*.hdr')))\n",
    "\n",
    "len(ct_arterys), len(ct_portals), len(ct_delays), len(mask_arterys), len(mask_portals), len(mask_delays)"
   ]
  },
  {
   "cell_type": "code",
   "execution_count": null,
   "metadata": {},
   "outputs": [],
   "source": [
    "# ct_a = []\n",
    "# for path in ct_artery:\n",
    "#     name = os.path.basename(path).split('_')[0]+'_'+os.path.basename(path).split('_')[1]\n",
    "#     if name in artery_lst:\n",
    "#             ct_a.append(path)\n",
    "            \n",
    "# ct_p = []\n",
    "# for path in ct_portal:\n",
    "#     name = os.path.basename(path).split('_')[0]+'_'+os.path.basename(path).split('_')[1]\n",
    "#     if name in portal_lst:\n",
    "#             ct_p.append(path)\n",
    "\n",
    "# ct_d = []\n",
    "# for path in ct_delay:\n",
    "#     name = os.path.basename(path).split('_')[0]+'_'+os.path.basename(path).split('_')[1]\n",
    "#     if name in delay_lst:\n",
    "#             ct_d.append(path)\n",
    "    \n",
    "# len(ct_a), len(ct_p), len(ct_d)"
   ]
  },
  {
   "cell_type": "code",
   "execution_count": null,
   "metadata": {},
   "outputs": [],
   "source": [
    "# mask_a = []\n",
    "# for path in MASK_artery:\n",
    "#     name = os.path.basename(path).split('_')[0]+'_'+os.path.basename(path).split('_')[1]\n",
    "#     if name in artery_lst:\n",
    "#             mask_a.append(path)\n",
    "            \n",
    "# mask_p = []\n",
    "# for path in MASK_portal:\n",
    "#     name = os.path.basename(path).split('_')[0]+'_'+os.path.basename(path).split('_')[1]\n",
    "#     if name in portal_lst:\n",
    "#             mask_p.append(path)\n",
    "\n",
    "# mask_d = []\n",
    "# for path in MASK_delay:\n",
    "#     name = os.path.basename(path).split('_')[0]+'_'+os.path.basename(path).split('_')[1]\n",
    "#     if name in delay_lst:\n",
    "#             mask_d.append(path)\n",
    "    \n",
    "# len(mask_a), len(mask_p), len(mask_d)"
   ]
  },
  {
   "cell_type": "markdown",
   "metadata": {},
   "source": [
    "#### phase 간 (artery와 portal / delay와 portal) slice 개수를 crop한 CT 영상 저장하기"
   ]
  },
  {
   "cell_type": "markdown",
   "metadata": {},
   "source": [
    "##### SimpleITK.WriteImage로 저장하기 전에 Set 해줘야하는 변수들\n",
    "- SetSpacing\n",
    "- SetOrigin\n",
    "- SetDirection"
   ]
  },
  {
   "cell_type": "code",
   "execution_count": 4,
   "metadata": {},
   "outputs": [
    {
     "name": "stderr",
     "output_type": "stream",
     "text": [
      "100%|██████████| 809/809 [10:37<00:00,  1.27it/s]\n"
     ]
    }
   ],
   "source": [
    "for i, mask_path in tqdm(enumerate(mask_arterys), total=len(mask_arterys)):\n",
    "    fname = os.path.basename(ct_arterys[i]).replace('resize', 'onlyliver')\n",
    "    img_artery = sitk.ReadImage(ct_arterys[i])\n",
    "    img_artery_arr = sitk.GetArrayFromImage(img_artery)\n",
    "    mask_artery = sitk.ReadImage(mask_path)\n",
    "    mask_artery_arr = sitk.GetArrayFromImage(mask_artery)\n",
    "    \n",
    "    ct_artery_slices = []\n",
    "    for i in range(len(mask_artery_arr)):\n",
    "        if len(mask_artery_arr[i][np.where(mask_artery_arr[i] > 0)]) != 0:\n",
    "            ct_artery_slices.append(img_artery_arr[i])\n",
    "    \n",
    "    ct_artery = np.array(ct_artery_slices)\n",
    "    crop_liver_img = sitk.GetImageFromArray(ct_artery)\n",
    "    crop_liver_img.SetSpacing(img_artery.GetSpacing())\n",
    "    crop_liver_img.SetOrigin(img_artery.GetOrigin())\n",
    "    crop_liver_img.SetDirection(img_artery.GetDirection())\n",
    "    sitk.WriteImage(crop_liver_img, f'./liver_crop/artery/{fname}.hdr')"
   ]
  },
  {
   "cell_type": "code",
   "execution_count": 5,
   "metadata": {},
   "outputs": [
    {
     "name": "stderr",
     "output_type": "stream",
     "text": [
      "100%|██████████| 808/808 [14:49<00:00,  1.10s/it]\n"
     ]
    }
   ],
   "source": [
    "for i, mask_path in tqdm(enumerate(mask_portals), total=len(mask_portals)):\n",
    "    fname = os.path.basename(ct_portals[i]).replace('resize', 'onlyliver')\n",
    "    img_portal = sitk.ReadImage(ct_portals[i])\n",
    "    img_portal_arr = sitk.GetArrayFromImage(img_portal)\n",
    "    mask_portal = sitk.ReadImage(mask_path)\n",
    "    mask_portal_arr = sitk.GetArrayFromImage(mask_portal)\n",
    "    \n",
    "    ct_portal_slices = []\n",
    "    for i in range(len(mask_portal_arr)):\n",
    "        if len(mask_portal_arr[i][np.where(mask_portal_arr[i] > 0)]) != 0:\n",
    "            ct_portal_slices.append(img_portal_arr[i])\n",
    "    \n",
    "    ct_portal = np.array(ct_portal_slices)\n",
    "    crop_liver_img = sitk.GetImageFromArray(ct_portal)\n",
    "    crop_liver_img.SetSpacing(img_portal.GetSpacing())\n",
    "    crop_liver_img.SetOrigin(img_portal.GetOrigin())\n",
    "    crop_liver_img.SetDirection(img_portal.GetDirection())\n",
    "    sitk.WriteImage(crop_liver_img, f'./liver_crop/portal/{fname}.hdr')"
   ]
  },
  {
   "cell_type": "code",
   "execution_count": 6,
   "metadata": {},
   "outputs": [
    {
     "name": "stderr",
     "output_type": "stream",
     "text": [
      "100%|██████████| 749/749 [10:44<00:00,  1.16it/s]\n"
     ]
    }
   ],
   "source": [
    "for i, mask_path in tqdm(enumerate(mask_delays), total=len(mask_delays)):\n",
    "    fname = os.path.basename(ct_delays[i]).replace('resize', 'onlyliver')\n",
    "    img_delay = sitk.ReadImage(ct_delays[i])\n",
    "    img_delay_arr = sitk.GetArrayFromImage(img_delay)\n",
    "    mask_delay = sitk.ReadImage(mask_path)\n",
    "    mask_delay_arr = sitk.GetArrayFromImage(mask_delay)\n",
    "    \n",
    "    ct_delay_slices = []\n",
    "    for i in range(len(mask_delay_arr)):\n",
    "        if len(mask_delay_arr[i][np.where(mask_delay_arr[i] > 0)]) != 0:\n",
    "            ct_delay_slices.append(img_delay_arr[i])\n",
    "    \n",
    "    ct_delay = np.array(ct_delay_slices)\n",
    "    crop_liver_img = sitk.GetImageFromArray(ct_delay)\n",
    "    crop_liver_img.SetSpacing(img_delay.GetSpacing())\n",
    "    crop_liver_img.SetOrigin(img_delay.GetOrigin())\n",
    "    crop_liver_img.SetDirection(img_delay.GetDirection())\n",
    "    sitk.WriteImage(crop_liver_img, f'./liver_crop/delay/{fname}.hdr')"
   ]
  },
  {
   "cell_type": "markdown",
   "metadata": {},
   "source": [
    "#### phase 간 (artery와 portal / delay와 portal) slice 개수를 crop한 마스크"
   ]
  },
  {
   "cell_type": "code",
   "execution_count": 7,
   "metadata": {},
   "outputs": [
    {
     "name": "stderr",
     "output_type": "stream",
     "text": [
      "100%|██████████| 809/809 [03:14<00:00,  4.17it/s]\n"
     ]
    }
   ],
   "source": [
    "for i, mask_path in tqdm(enumerate(mask_arterys), total=len(mask_arterys)):\n",
    "    fname = os.path.basename(mask_path).replace('resize_Lg', 'onlyliver')\n",
    "    mask_img = sitk.ReadImage(mask_path)\n",
    "    mask_arr = sitk.GetArrayFromImage(mask_img)\n",
    "    \n",
    "    mask_arr_slices = []\n",
    "    for i in range(len(mask_arr)):\n",
    "        if len(mask_arr[i][np.where(mask_arr[i] > 0)]) != 0:\n",
    "            mask_arr_slices.append(mask_arr[i])\n",
    "    \n",
    "    mask_artery = np.array(mask_arr_slices)\n",
    "    only_liver_img = sitk.GetImageFromArray(mask_artery)\n",
    "    only_liver_img.SetSpacing(mask_img.GetSpacing())\n",
    "    only_liver_img.SetOrigin(mask_img.GetOrigin())\n",
    "    only_liver_img.SetDirection(mask_img.GetDirection())\n",
    "    sitk.WriteImage(only_liver_img, f'./mask_crop/artery/{fname}.hdr')"
   ]
  },
  {
   "cell_type": "code",
   "execution_count": 9,
   "metadata": {},
   "outputs": [
    {
     "name": "stderr",
     "output_type": "stream",
     "text": [
      "100%|██████████| 808/808 [03:23<00:00,  3.96it/s]\n"
     ]
    }
   ],
   "source": [
    "for i, mask_path in tqdm(enumerate(mask_portals), total=len(mask_portals)):\n",
    "    fname = os.path.basename(mask_path).replace('resize_Lg', 'onlyliver')\n",
    "    mask_img = sitk.ReadImage(mask_path)\n",
    "    mask_arr = sitk.GetArrayFromImage(mask_img)\n",
    "    \n",
    "    mask_arr_slices = []\n",
    "    for i in range(len(mask_arr)):\n",
    "        if len(mask_arr[i][np.where(mask_arr[i] > 0)]) != 0:\n",
    "            mask_arr_slices.append(mask_arr[i])\n",
    "    \n",
    "    mask_portal = np.array(mask_arr_slices)\n",
    "    only_liver_img = sitk.GetImageFromArray(mask_portal)\n",
    "    only_liver_img.SetSpacing(mask_img.GetSpacing())\n",
    "    only_liver_img.SetOrigin(mask_img.GetOrigin())\n",
    "    only_liver_img.SetDirection(mask_img.GetDirection())\n",
    "    sitk.WriteImage(only_liver_img, f'./mask_crop/portal/{fname}.hdr')"
   ]
  },
  {
   "cell_type": "code",
   "execution_count": 10,
   "metadata": {},
   "outputs": [
    {
     "name": "stderr",
     "output_type": "stream",
     "text": [
      "100%|██████████| 749/749 [02:49<00:00,  4.42it/s]\n"
     ]
    }
   ],
   "source": [
    "for i, mask_path in tqdm(enumerate(mask_delays), total=len(mask_delays)):\n",
    "    fname = os.path.basename(mask_path).replace('resize_Lg', 'onlyliver')\n",
    "    mask_img = sitk.ReadImage(mask_path)\n",
    "    mask_arr = sitk.GetArrayFromImage(mask_img)\n",
    "    \n",
    "    mask_arr_slices = []\n",
    "    for i in range(len(mask_arr)):\n",
    "        if len(mask_arr[i][np.where(mask_arr[i] > 0)]) != 0:\n",
    "            mask_arr_slices.append(mask_arr[i])\n",
    "    \n",
    "    mask_delay = np.array(mask_arr_slices)\n",
    "    only_liver_img = sitk.GetImageFromArray(mask_delay)\n",
    "    only_liver_img.SetSpacing(mask_img.GetSpacing())\n",
    "    only_liver_img.SetOrigin(mask_img.GetOrigin())\n",
    "    only_liver_img.SetDirection(mask_img.GetDirection())\n",
    "    sitk.WriteImage(only_liver_img, f'./mask_crop/delay/{fname}.hdr')"
   ]
  },
  {
   "cell_type": "markdown",
   "metadata": {},
   "source": [
    "# Histomgram"
   ]
  },
  {
   "cell_type": "markdown",
   "metadata": {},
   "source": [
    "## slice 개수 차이 맞추기 이전"
   ]
  },
  {
   "cell_type": "code",
   "execution_count": null,
   "metadata": {},
   "outputs": [],
   "source": [
    "# before_artery = []\n",
    "# for idx, path in tqdm(enumerate(ct_a), total=len(ct_a)):\n",
    "#     a_img = sitk.ReadImage(path)\n",
    "#     a_ary = sitk.GetArrayFromImage(a_img)\n",
    "#     a_depth = a_ary.shape[0]\n",
    "    \n",
    "#     fname = os.path.basename(path)\n",
    "#     p_path = f'/dockerspace/data2/sungchul/CDSS_Liver/data/CDSS/CT_only_portal/{fname}'\n",
    "    \n",
    "#     p_img = sitk.ReadImage(p_path)\n",
    "#     p_ary = sitk.GetArrayFromImage(p_img)\n",
    "#     p_depth = p_ary.shape[0]\n",
    "    \n",
    "#     dif = p_depth - a_depth\n",
    "#     before_artery.append(dif)\n",
    "    \n",
    "# before_delay = []\n",
    "# for idx, path in tqdm(enumerate(ct_d), total=len(ct_d)):\n",
    "#     d_img = sitk.ReadImage(path)\n",
    "#     d_ary = sitk.GetArrayFromImage(d_img)\n",
    "#     d_depth = d_ary.shape[0]\n",
    "    \n",
    "#     fname = os.path.basename(path)\n",
    "#     p_path = f'/dockerspace/data2/sungchul/CDSS_Liver/data/CDSS/CT_only_portal/{fname}'\n",
    "    \n",
    "#     p_img = sitk.ReadImage(p_path)\n",
    "#     p_ary = sitk.GetArrayFromImage(p_img)\n",
    "#     p_depth = p_ary.shape[0]\n",
    "\n",
    "#     dif = p_depth - d_depth\n",
    "#     before_delay.append(dif)"
   ]
  },
  {
   "cell_type": "code",
   "execution_count": null,
   "metadata": {},
   "outputs": [],
   "source": [
    "# len(before_artery), len(before_delay)"
   ]
  },
  {
   "cell_type": "code",
   "execution_count": null,
   "metadata": {},
   "outputs": [],
   "source": [
    "# plt.hist(before_artery, bins=14, range=[0,70], alpha=.7, label='artery')\n",
    "# plt.legend()\n",
    "# plt.hist(before_delay, bins=14, range=[0,70], alpha=.7, label='delay')\n",
    "# plt.legend()\n",
    "# plt.xlabel('number of z slices(portal) - number of z slices(phase)')\n",
    "# plt.show()\n",
    "\n",
    "# print('Max difference b/w artery & portal:', max(before_artery))\n",
    "# print('Max difference b/w artery & delay:', max(before_delay))"
   ]
  },
  {
   "cell_type": "markdown",
   "metadata": {},
   "source": [
    "## slice 개수 차이 맞추기 나서 이후"
   ]
  },
  {
   "cell_type": "code",
   "execution_count": null,
   "metadata": {},
   "outputs": [],
   "source": [
    "# CT_a = glob.glob('./liver_crop/artery/*.hdr')\n",
    "# CT_p = glob.glob('./liver_crop/portal/*.hdr')\n",
    "# CT_d = glob.glob('./liver_crop/delay/*.hdr')\n",
    "\n",
    "# len(CT_a), len(CT_p), len(CT_d)"
   ]
  },
  {
   "cell_type": "code",
   "execution_count": null,
   "metadata": {},
   "outputs": [],
   "source": [
    "# after_artery = []\n",
    "# for idx, path in tqdm(enumerate(CT_a), total=len(CT_a)):\n",
    "#     a_img = sitk.ReadImage(path)\n",
    "#     a_ary = sitk.GetArrayFromImage(a_img)\n",
    "#     a_depth = a_ary.shape[0]\n",
    "    \n",
    "#     fname = os.path.basename(path)\n",
    "#     p_path = f'./liver_crop/portal/{fname}'\n",
    "    \n",
    "#     p_img = sitk.ReadImage(p_path)\n",
    "#     p_ary = sitk.GetArrayFromImage(p_img)\n",
    "#     p_depth = p_ary.shape[0]\n",
    "    \n",
    "#     dif = p_depth - a_depth\n",
    "#     after_artery.append(dif)\n",
    "    \n",
    "# after_delay = []\n",
    "# for idx, path in tqdm(enumerate(CT_d), total=len(CT_d)):\n",
    "#     d_img = sitk.ReadImage(path)\n",
    "#     d_ary = sitk.GetArrayFromImage(d_img)\n",
    "#     d_depth = d_ary.shape[0]\n",
    "    \n",
    "#     fname = os.path.basename(path)\n",
    "#     p_path = f'./liver_crop/portal/{fname}'\n",
    "    \n",
    "#     p_img = sitk.ReadImage(p_path)\n",
    "#     p_ary = sitk.GetArrayFromImage(p_img)\n",
    "#     p_depth = p_ary.shape[0]\n",
    "\n",
    "#     dif = p_depth - d_depth\n",
    "#     after_delay.append(dif)"
   ]
  },
  {
   "cell_type": "code",
   "execution_count": null,
   "metadata": {},
   "outputs": [],
   "source": [
    "# len(before_artery), len(before_delay)"
   ]
  },
  {
   "cell_type": "code",
   "execution_count": null,
   "metadata": {},
   "outputs": [],
   "source": [
    "# plt.hist(after_artery, bins=14, range=[0,70], alpha=.7, label='artery')\n",
    "# plt.legend()\n",
    "# plt.hist(after_delay, bins=14, range=[0,70], alpha=.7, label='delay')\n",
    "# plt.legend()\n",
    "# plt.xlabel('number of z slices(portal) - number of z slices(phase)')\n",
    "# plt.show()\n",
    "\n",
    "# print('Max difference b/w artery & portal:', max(after_artery))\n",
    "# print('Max difference b/w artery & delay:', max(after_delay))"
   ]
  }
 ],
 "metadata": {
  "kernelspec": {
   "display_name": "Python 3",
   "language": "python",
   "name": "python3"
  },
  "language_info": {
   "codemirror_mode": {
    "name": "ipython",
    "version": 3
   },
   "file_extension": ".py",
   "mimetype": "text/x-python",
   "name": "python",
   "nbconvert_exporter": "python",
   "pygments_lexer": "ipython3",
   "version": "3.7.4"
  }
 },
 "nbformat": 4,
 "nbformat_minor": 5
}
